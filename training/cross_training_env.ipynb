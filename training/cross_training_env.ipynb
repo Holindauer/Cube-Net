{
 "cells": [
  {
   "cell_type": "markdown",
   "metadata": {},
   "source": [
    "# Cube-Net ConvLSTM (Cross) Training Environment\n",
    "This notebooks contains the setup and training of the convolutional LSTM network for the Cube-Net project. More specifically, this notebook contains the training environment for the cross solving network."
   ]
  },
  {
   "cell_type": "markdown",
   "metadata": {},
   "source": [
    "# cube Python Bindings"
   ]
  },
  {
   "cell_type": "markdown",
   "metadata": {},
   "source": [
    "The Cube class is used to provide python bindings to the rust program 'cube' which is used to simulate the Tensor rubiks cube and generates the training data by applying moves to this representation. "
   ]
  },
  {
   "cell_type": "code",
   "execution_count": 1,
   "metadata": {},
   "outputs": [
    {
     "name": "stdout",
     "output_type": "stream",
     "text": [
      "Cleaning the solution_verifier Rust program...\n",
      "Compiling the solution_verifier Rust program in release mode...\n"
     ]
    },
    {
     "name": "stderr",
     "output_type": "stream",
     "text": [
      "   Compiling proc-macro2 v1.0.71\n",
      "   Compiling unicode-ident v1.0.12\n",
      "   Compiling serde v1.0.193\n",
      "   Compiling serde_json v1.0.108\n",
      "   Compiling itoa v1.0.10\n",
      "   Compiling ryu v1.0.16\n",
      "   Compiling quote v1.0.33\n",
      "   Compiling syn v2.0.42\n",
      "   Compiling serde_derive v1.0.193\n",
      "   Compiling cube v0.1.0 (/home/holindauer/Projects/Cube-Net/cube)\n",
      "warning: unused variable: `i`\n",
      "  --> src/verify_cross.rs:14:9\n",
      "   |\n",
      "14 |     for i in 0..4 {\n",
      "   |         ^ help: if this is intentional, prefix it with an underscore: `_i`\n",
      "   |\n",
      "   = note: `#[warn(unused_variables)]` on by default\n",
      "\n",
      "warning: `cube` (lib) generated 1 warning (run `cargo fix --lib -p cube` to apply 1 suggestion)\n",
      "warning: unused import: `cube::verify_solve::is_solved`\n",
      " --> src/bin/is_cross_solved.rs:2:5\n",
      "  |\n",
      "2 | use cube::verify_solve::is_solved;\n",
      "  |     ^^^^^^^^^^^^^^^^^^^^^^^^^^^^^\n",
      "  |\n",
      "  = note: `#[warn(unused_imports)]` on by default\n",
      "\n",
      "warning: `cube` (bin \"is_cross_solved\") generated 1 warning (run `cargo fix --bin \"is_cross_solved\"` to apply 1 suggestion)\n"
     ]
    },
    {
     "name": "stdout",
     "output_type": "stream",
     "text": [
      "Compilation successful.\n"
     ]
    },
    {
     "name": "stderr",
     "output_type": "stream",
     "text": [
      "    Finished release [optimized] target(s) in 30.30s\n"
     ]
    }
   ],
   "source": [
    "from cube_bindings import Cube, TrainConfig\n",
    "\n",
    "config = TrainConfig(\n",
    "    batch_size=32,\n",
    "    scramble_len=40\n",
    ")\n",
    "\n",
    "cube = Cube(config)\n"
   ]
  },
  {
   "cell_type": "markdown",
   "metadata": {},
   "source": [
    "Here is an example of how the python bindings for the rust program are used:\n",
    "\n",
    "With regards to the training environment for the cross solving model, the follow operations are available: \n",
    "- cube.generate_data() generate a batch of scrambled cube Tensors and the scrambles that produced them\n",
    "- cube.is_solved() and cube.is_cross_solved() to check if the cube or the cross is solved\n",
    "- cube. solved_cross() to determine the solution of the cross"
   ]
  },
  {
   "cell_type": "code",
   "execution_count": 2,
   "metadata": {},
   "outputs": [
    {
     "name": "stdout",
     "output_type": "stream",
     "text": [
      "Is the cube solved? no --- scramble: F' B F' B L' R' B D F B' F B' L L D F L U' L B F R' D U U' B U' U' U' L' L' B' D D' F' R' R R R' R\n",
      "Cross solution: B U U B' F F U U U U B L' B' U U B B \n",
      "Is the cube now solved? no\n",
      "Is the cross now solved? yes\n"
     ]
    },
    {
     "name": "stderr",
     "output_type": "stream",
     "text": [
      "Error: Exactly two arguments are required.\n"
     ]
    }
   ],
   "source": [
    "cube_tensors, scrambles = cube.generate_data()\n",
    "\n",
    "cube_tensors.shape\n",
    "\n",
    "solved = cube.is_solved(scrambles[0], \"\")\n",
    "print(f\"Is the cube solved? {'yes' if solved else 'no'} --- scramble: {scrambles[0]}\")\n",
    "\n",
    "cross_solution = cube.solve_cross(scrambles[0])\n",
    "print(f\"Cross solution: {cross_solution}\")  \n",
    "\n",
    "solved = cube.is_solved(scrambles[0], cross_solution)\n",
    "print(f\"Is the cube now solved? {'yes' if solved else 'no'}\")\n",
    "\n",
    "all_moves_so_far = \" \".join([scrambles[0], cross_solution])\n",
    "print(f\"Is the cross now solved? {'yes' if cube.is_cross_solved(all_moves_so_far) else 'no'}\")\n"
   ]
  },
  {
   "cell_type": "markdown",
   "metadata": {},
   "source": [
    "Here is a simple visualization of the cube data."
   ]
  }
 ],
 "metadata": {
  "kernelspec": {
   "display_name": "Python 3",
   "language": "python",
   "name": "python3"
  },
  "language_info": {
   "codemirror_mode": {
    "name": "ipython",
    "version": 3
   },
   "file_extension": ".py",
   "mimetype": "text/x-python",
   "name": "python",
   "nbconvert_exporter": "python",
   "pygments_lexer": "ipython3",
   "version": "3.10.12"
  }
 },
 "nbformat": 4,
 "nbformat_minor": 2
}

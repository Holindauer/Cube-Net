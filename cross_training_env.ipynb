{
 "cells": [
  {
   "cell_type": "markdown",
   "metadata": {},
   "source": [
    "# Cube-Net ConvLSTM (Cross) Training Environment\n",
    "This notebooks contains the setup and training of the convolutional LSTM network for the Cube-Net project. More specifically, this notebook contains the training environment for the cross solving network."
   ]
  },
  {
   "cell_type": "markdown",
   "metadata": {},
   "source": [
    "### cube Python Bindings"
   ]
  },
  {
   "cell_type": "markdown",
   "metadata": {},
   "source": [
    "The Cube class is used to provide python bindings to the rust program 'cube' which is used to generate a dataset of scrambled cubes, both as a Tensor representation as well as their associated scrambles."
   ]
  },
  {
   "cell_type": "code",
   "execution_count": 1,
   "metadata": {},
   "outputs": [
    {
     "name": "stdout",
     "output_type": "stream",
     "text": [
      "Compiling the solution_verifier Rust program in release mode...\n",
      "Compilation successful.\n"
     ]
    },
    {
     "name": "stderr",
     "output_type": "stream",
     "text": [
      "    Finished release [optimized] target(s) in 0.23s\n"
     ]
    }
   ],
   "source": [
    "from cube_bindings import Cube\n",
    "\n",
    "cube = Cube()\n"
   ]
  },
  {
   "cell_type": "markdown",
   "metadata": {},
   "source": [
    "### Example\n",
    "Here is an example of how the python bindings for the rust program are used:\n",
    "\n",
    "With regards to the training environment for the cross solving model, the follow operations are available: \n",
    "- cube.generate_data() generate a batch of scrambled cube Tensors and the scrambles that produced them\n",
    "- cube.is_solved() and cube.is_cross_solved() to check if the cube or the cross is solved\n",
    "- cube. solved_cross() to determine the solution of the cross"
   ]
  },
  {
   "cell_type": "code",
   "execution_count": 2,
   "metadata": {},
   "outputs": [
    {
     "name": "stdout",
     "output_type": "stream",
     "text": [
      "Is the cube solved? no --- scramble: L U' F' L B D F L R' R U' L D' U' F' B' U' B F' U L U' D D U R D U' R B' B R' F' L R' F' U U' L L'\n",
      "Cross solution: U U U F F R' U U R'' L L B U U B' U U U R R B R' U U U R B B \n",
      "Is the cube now solved? no\n",
      "All moves so far: L U' F' L B D F L R' R U' L D' U' F' B' U' B F' U L U' D D U R D U' R B' B R' F' L R' F' U U' L L' U U U F F R' U U R'' L L B U U B' U U U R R B R' U U U R B B \n",
      "Is the cross now solved? yes\n"
     ]
    }
   ],
   "source": [
    "cube_tensors, scrambles = cube.generate_data(batch_size=1, scramble_len=40)\n",
    "\n",
    "cube_tensors.shape\n",
    "\n",
    "solved = cube.is_solved(scrambles[0], \"\")\n",
    "print(f\"Is the cube solved? {'yes' if solved else 'no'} --- scramble: {scrambles[0]}\")\n",
    "\n",
    "cross_solution = cube.solve_cross(scrambles[0])\n",
    "print(f\"Cross solution: {cross_solution}\")  \n",
    "\n",
    "solved = cube.is_solved(scrambles[0], cross_solution)\n",
    "print(f\"Is the cube now solved? {'yes' if solved else 'no'}\")\n",
    "\n",
    "all_moves_so_far = \" \".join([scrambles[0], cross_solution])\n",
    "print(f\"All moves so far: {all_moves_so_far}\")\n",
    "\n",
    "print(f\"Is the cross now solved? {'yes' if cube.is_cross_solved(all_moves_so_far) else 'no'}\")\n"
   ]
  },
  {
   "cell_type": "markdown",
   "metadata": {},
   "source": [
    "# Setting up the Training Environment"
   ]
  },
  {
   "cell_type": "markdown",
   "metadata": {},
   "source": [
    "Here I am setting up the training environment for the cross solving model.\n",
    "\n",
    "The model below accepts data in the following format: (batch_size, time_steps, channels, height, width, depth) \n",
    "Where the height, width, depth dimmensions are the rubiks cube tensor representaiton. The channels dimmension is initially a singleton dimmension, but will be exapanded upon convolution. \n",
    "\n",
    "The time_steps dimmension is a bit special to this implementation in that it will be increased as the solution to a scrambled cube is found. Previous cube states will be stored in the time_steps dimmension (up to a maximum). \n",
    "\n",
    "ConvLSTMClassifier itself is only tasked with determining the best *single move* to make given the current cube state. However, the previous cube states are stored in the time_steps dimmension so that the model is informed of the context of the cube state."
   ]
  },
  {
   "cell_type": "code",
   "execution_count": 3,
   "metadata": {},
   "outputs": [
    {
     "name": "stdout",
     "output_type": "stream",
     "text": [
      "Input size: torch.Size([1, 5, 1, 5, 5, 5])\n",
      "Output size: torch.Size([1, 13])\n",
      "Prediction size: torch.Size([1])\n"
     ]
    }
   ],
   "source": [
    "from model_cross import ConvLSTMClassifier, ConvLSTM\n",
    "import torch\n",
    " \n",
    "# Initialize the ConvLSTM\n",
    "conv_lstm = ConvLSTM(input_channels=1, hidden_channels=[8, 16, 32, 32, 64], kernel_size=3)\n",
    "\n",
    "num_output_features = 64 * 5 * 5 * 5  # Replace with the correct size\n",
    "\n",
    "# Initialize ConvLSTMClassifier\n",
    "classifier = ConvLSTMClassifier(conv_lstm, num_output_features, num_classes=13)\n",
    "\n",
    "# Example input and target data for classification\n",
    "input = torch.randn(1, 5, 1, 5, 5, 5)\n",
    "output = classifier(input)\n",
    "prediction = output.argmax(dim=1)\n",
    "\n",
    "# Print shapes for verification\n",
    "print('Input size:', input.shape)\n",
    "print('Output size:', output.shape)\n",
    "print('Prediction size:', prediction.shape)"
   ]
  },
  {
   "cell_type": "code",
   "execution_count": 4,
   "metadata": {},
   "outputs": [
    {
     "name": "stdout",
     "output_type": "stream",
     "text": [
      "Conv LSTM output shape: torch.Size([32, 64, 5, 5, 5])\n",
      "Classifier output shape: torch.Size([32, 13])\n"
     ]
    }
   ],
   "source": [
    "input = torch.randn(32, 5, 1, 5, 5, 5)\n",
    "\n",
    "output = conv_lstm(input)\n",
    "print(f'Conv LSTM output shape: {output.shape}')\n",
    "\n",
    "classifer_output = classifier(input)\n",
    "print(f'Classifier output shape: {classifer_output.shape}')"
   ]
  },
  {
   "cell_type": "code",
   "execution_count": 5,
   "metadata": {},
   "outputs": [
    {
     "name": "stderr",
     "output_type": "stream",
     "text": [
      "/home/holindauer/.local/lib/python3.10/site-packages/tqdm/auto.py:21: TqdmWarning: IProgress not found. Please update jupyter and ipywidgets. See https://ipywidgets.readthedocs.io/en/stable/user_install.html\n",
      "  from .autonotebook import tqdm as notebook_tqdm\n"
     ]
    }
   ],
   "source": [
    "from train_cross import Trainer, TrainConfig\n",
    "from early_stopping import EarlyStopping\n",
    "import torch\n",
    "\n",
    "config = TrainConfig(\n",
    "    scramble_len=40,\n",
    "    epochs=1,\n",
    "    val_num_batches=10,\n",
    "    batch_size=32,\n",
    "    lr=0.001,\n",
    "    device=torch.device(\"cuda\" if torch.cuda.is_available() else \"cpu\"),\n",
    "    optimizer=torch.optim.Adam,\n",
    "    early_stopping=EarlyStopping(patience=10)\n",
    ")\n",
    "\n",
    "\n",
    "trainer = Trainer(cube, config, classifier)"
   ]
  },
  {
   "cell_type": "code",
   "execution_count": 6,
   "metadata": {},
   "outputs": [
    {
     "name": "stdout",
     "output_type": "stream",
     "text": [
      "cube_states shape: torch.Size([32, 1, 1, 5, 5, 5])\n",
      "length of max solution: 31\n",
      "cube_states shape: torch.Size([32, 1, 1, 5, 5, 5])\n",
      "outputs shape: torch.Size([32, 13])\n",
      "pred shape: torch.Size([32])\n",
      "cube_states shape: torch.Size([32, 2, 1, 5, 5, 5])\n",
      "outputs shape: torch.Size([32, 13])\n",
      "pred shape: torch.Size([32])\n",
      "cube_states shape: torch.Size([32, 3, 1, 5, 5, 5])\n",
      "outputs shape: torch.Size([32, 13])\n",
      "pred shape: torch.Size([32])\n",
      "cube_states shape: torch.Size([32, 4, 1, 5, 5, 5])\n",
      "outputs shape: torch.Size([32, 13])\n",
      "pred shape: torch.Size([32])\n",
      "cube_states shape: torch.Size([32, 5, 1, 5, 5, 5])\n",
      "outputs shape: torch.Size([32, 13])\n",
      "pred shape: torch.Size([32])\n",
      "cube_states shape: torch.Size([32, 6, 1, 5, 5, 5])\n",
      "outputs shape: torch.Size([32, 13])\n",
      "pred shape: torch.Size([32])\n",
      "cube_states shape: torch.Size([32, 7, 1, 5, 5, 5])\n",
      "outputs shape: torch.Size([32, 13])\n",
      "pred shape: torch.Size([32])\n",
      "cube_states shape: torch.Size([32, 8, 1, 5, 5, 5])\n",
      "outputs shape: torch.Size([32, 13])\n",
      "pred shape: torch.Size([32])\n",
      "cube_states shape: torch.Size([32, 9, 1, 5, 5, 5])\n",
      "outputs shape: torch.Size([32, 13])\n",
      "pred shape: torch.Size([32])\n",
      "cube_states shape: torch.Size([32, 10, 1, 5, 5, 5])\n",
      "outputs shape: torch.Size([32, 13])\n",
      "pred shape: torch.Size([32])\n",
      "cube_states shape: torch.Size([32, 11, 1, 5, 5, 5])\n",
      "outputs shape: torch.Size([32, 13])\n",
      "pred shape: torch.Size([32])\n",
      "cube_states shape: torch.Size([32, 12, 1, 5, 5, 5])\n",
      "outputs shape: torch.Size([32, 13])\n",
      "pred shape: torch.Size([32])\n",
      "cube_states shape: torch.Size([32, 13, 1, 5, 5, 5])\n",
      "outputs shape: torch.Size([32, 13])\n",
      "pred shape: torch.Size([32])\n",
      "cube_states shape: torch.Size([32, 14, 1, 5, 5, 5])\n",
      "outputs shape: torch.Size([32, 13])\n",
      "pred shape: torch.Size([32])\n",
      "cube_states shape: torch.Size([32, 15, 1, 5, 5, 5])\n",
      "outputs shape: torch.Size([32, 13])\n",
      "pred shape: torch.Size([32])\n",
      "cube_states shape: torch.Size([32, 16, 1, 5, 5, 5])\n",
      "outputs shape: torch.Size([32, 13])\n",
      "pred shape: torch.Size([32])\n",
      "cube_states shape: torch.Size([32, 17, 1, 5, 5, 5])\n",
      "outputs shape: torch.Size([32, 13])\n",
      "pred shape: torch.Size([32])\n",
      "cube_states shape: torch.Size([32, 18, 1, 5, 5, 5])\n",
      "outputs shape: torch.Size([32, 13])\n",
      "pred shape: torch.Size([32])\n",
      "cube_states shape: torch.Size([32, 19, 1, 5, 5, 5])\n",
      "outputs shape: torch.Size([32, 13])\n",
      "pred shape: torch.Size([32])\n",
      "cube_states shape: torch.Size([32, 20, 1, 5, 5, 5])\n",
      "outputs shape: torch.Size([32, 13])\n",
      "pred shape: torch.Size([32])\n",
      "cube_states shape: torch.Size([32, 21, 1, 5, 5, 5])\n",
      "outputs shape: torch.Size([32, 13])\n",
      "pred shape: torch.Size([32])\n",
      "cube_states shape: torch.Size([32, 22, 1, 5, 5, 5])\n",
      "outputs shape: torch.Size([32, 13])\n",
      "pred shape: torch.Size([32])\n",
      "cube_states shape: torch.Size([32, 23, 1, 5, 5, 5])\n",
      "outputs shape: torch.Size([32, 13])\n",
      "pred shape: torch.Size([32])\n",
      "cube_states shape: torch.Size([32, 24, 1, 5, 5, 5])\n",
      "outputs shape: torch.Size([32, 13])\n",
      "pred shape: torch.Size([32])\n",
      "cube_states shape: torch.Size([32, 25, 1, 5, 5, 5])\n",
      "outputs shape: torch.Size([32, 13])\n",
      "pred shape: torch.Size([32])\n",
      "cube_states shape: torch.Size([32, 26, 1, 5, 5, 5])\n",
      "outputs shape: torch.Size([32, 13])\n",
      "pred shape: torch.Size([32])\n",
      "cube_states shape: torch.Size([32, 27, 1, 5, 5, 5])\n",
      "outputs shape: torch.Size([32, 13])\n",
      "pred shape: torch.Size([32])\n",
      "cube_states shape: torch.Size([32, 28, 1, 5, 5, 5])\n",
      "outputs shape: torch.Size([32, 13])\n",
      "pred shape: torch.Size([32])\n",
      "cube_states shape: torch.Size([32, 29, 1, 5, 5, 5])\n",
      "outputs shape: torch.Size([32, 13])\n",
      "pred shape: torch.Size([32])\n",
      "cube_states shape: torch.Size([32, 30, 1, 5, 5, 5])\n",
      "outputs shape: torch.Size([32, 13])\n",
      "pred shape: torch.Size([32])\n",
      "cube_states shape: torch.Size([32, 31, 1, 5, 5, 5])\n",
      "outputs shape: torch.Size([32, 13])\n",
      "pred shape: torch.Size([32])\n",
      "epoch: 0 | train loss: 2.1357024292792044\n"
     ]
    }
   ],
   "source": [
    "trainer.train()"
   ]
  }
 ],
 "metadata": {
  "kernelspec": {
   "display_name": "Python 3",
   "language": "python",
   "name": "python3"
  },
  "language_info": {
   "codemirror_mode": {
    "name": "ipython",
    "version": 3
   },
   "file_extension": ".py",
   "mimetype": "text/x-python",
   "name": "python",
   "nbconvert_exporter": "python",
   "pygments_lexer": "ipython3",
   "version": "3.10.12"
  }
 },
 "nbformat": 4,
 "nbformat_minor": 2
}
